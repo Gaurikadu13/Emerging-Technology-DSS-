{
 "cells": [
  {
   "cell_type": "code",
   "execution_count": 1,
   "id": "3ed7a34b",
   "metadata": {},
   "outputs": [],
   "source": [
    "#Aim : To create 1D , 2D and Multidiamensional array"
   ]
  },
  {
   "cell_type": "code",
   "execution_count": 2,
   "id": "2eac5662",
   "metadata": {},
   "outputs": [],
   "source": [
    "#Name: Gauri Tarachand Kadu\n",
    "#Roll no: 26\n",
    "#Sec: A\n",
    "#Subject: ET-1\n",
    "#Date:19/08/2025"
   ]
  },
  {
   "cell_type": "code",
   "execution_count": 3,
   "id": "c9eb93ea",
   "metadata": {},
   "outputs": [],
   "source": [
    "#importing the basic library\n",
    "import numpy as np"
   ]
  },
  {
   "cell_type": "code",
   "execution_count": 4,
   "id": "41ad40df",
   "metadata": {},
   "outputs": [],
   "source": [
    "#creating 1D array using numpy"
   ]
  },
  {
   "cell_type": "code",
   "execution_count": 5,
   "id": "b8848eb7",
   "metadata": {},
   "outputs": [],
   "source": [
    "a1=np.array([10,20,30,40,50])"
   ]
  },
  {
   "cell_type": "code",
   "execution_count": 6,
   "id": "2233dc88",
   "metadata": {},
   "outputs": [
    {
     "data": {
      "text/plain": [
       "array([10, 20, 30, 40, 50])"
      ]
     },
     "execution_count": 6,
     "metadata": {},
     "output_type": "execute_result"
    }
   ],
   "source": [
    "a1"
   ]
  },
  {
   "cell_type": "code",
   "execution_count": 7,
   "id": "58434766",
   "metadata": {},
   "outputs": [],
   "source": [
    "a2=np.array([[10,20,30,40],[60,70,80,90]])"
   ]
  },
  {
   "cell_type": "code",
   "execution_count": 8,
   "id": "48acfadc",
   "metadata": {},
   "outputs": [
    {
     "data": {
      "text/plain": [
       "array([[10, 20, 30, 40],\n",
       "       [60, 70, 80, 90]])"
      ]
     },
     "execution_count": 8,
     "metadata": {},
     "output_type": "execute_result"
    }
   ],
   "source": [
    "a2"
   ]
  },
  {
   "cell_type": "code",
   "execution_count": 9,
   "id": "cdb73df4",
   "metadata": {},
   "outputs": [],
   "source": [
    "#creating 2D array using matrix"
   ]
  },
  {
   "cell_type": "code",
   "execution_count": 10,
   "id": "4502b969",
   "metadata": {},
   "outputs": [
    {
     "name": "stdout",
     "output_type": "stream",
     "text": [
      "[[11 22]\n",
      " [33 44]\n",
      " [55 66]]\n"
     ]
    }
   ],
   "source": [
    "a3=np.matrix('11 22;33 44;55 66')\n",
    "print(a3)"
   ]
  },
  {
   "cell_type": "code",
   "execution_count": null,
   "id": "81d43098",
   "metadata": {},
   "outputs": [],
   "source": []
  }
 ],
 "metadata": {
  "kernelspec": {
   "display_name": "Python 3 (ipykernel)",
   "language": "python",
   "name": "python3"
  },
  "language_info": {
   "codemirror_mode": {
    "name": "ipython",
    "version": 3
   },
   "file_extension": ".py",
   "mimetype": "text/x-python",
   "name": "python",
   "nbconvert_exporter": "python",
   "pygments_lexer": "ipython3",
   "version": "3.13.5"
  }
 },
 "nbformat": 4,
 "nbformat_minor": 5
}
