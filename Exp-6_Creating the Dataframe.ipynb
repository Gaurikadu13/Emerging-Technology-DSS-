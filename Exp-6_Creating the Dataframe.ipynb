{
 "cells": [
  {
   "cell_type": "code",
   "execution_count": 1,
   "id": "37f61db3",
   "metadata": {},
   "outputs": [],
   "source": [
    "#Aim: To create the dataframe"
   ]
  },
  {
   "cell_type": "code",
   "execution_count": 2,
   "id": "7dca67e4",
   "metadata": {},
   "outputs": [],
   "source": [
    "#Name: Gauri Tarachand Kadu\n",
    "#Roll no: 26\n",
    "#Sec: A\n",
    "#Subject: ET-1\n",
    "#Date:25/8/25"
   ]
  },
  {
   "cell_type": "code",
   "execution_count": 3,
   "id": "f1e4095b",
   "metadata": {},
   "outputs": [],
   "source": [
    "#importing pandas library\n",
    "import pandas as pd"
   ]
  },
  {
   "cell_type": "code",
   "execution_count": 4,
   "id": "a6b2483a",
   "metadata": {},
   "outputs": [],
   "source": [
    "#Creating data frame\n",
    "df=pd.DataFrame([[10,20,12,40,70],[20,10,60,70,30],[30,70,80,90,40]],columns=[\"CD\",\"DBMS\",\"DSS\",\"CAO\",\"DM\"])"
   ]
  },
  {
   "cell_type": "code",
   "execution_count": 5,
   "id": "ed971bc8",
   "metadata": {},
   "outputs": [
    {
     "data": {
      "text/html": [
       "<div>\n",
       "<style scoped>\n",
       "    .dataframe tbody tr th:only-of-type {\n",
       "        vertical-align: middle;\n",
       "    }\n",
       "\n",
       "    .dataframe tbody tr th {\n",
       "        vertical-align: top;\n",
       "    }\n",
       "\n",
       "    .dataframe thead th {\n",
       "        text-align: right;\n",
       "    }\n",
       "</style>\n",
       "<table border=\"1\" class=\"dataframe\">\n",
       "  <thead>\n",
       "    <tr style=\"text-align: right;\">\n",
       "      <th></th>\n",
       "      <th>CD</th>\n",
       "      <th>DBMS</th>\n",
       "      <th>DSS</th>\n",
       "      <th>CAO</th>\n",
       "      <th>DM</th>\n",
       "    </tr>\n",
       "  </thead>\n",
       "  <tbody>\n",
       "    <tr>\n",
       "      <th>0</th>\n",
       "      <td>10</td>\n",
       "      <td>20</td>\n",
       "      <td>12</td>\n",
       "      <td>40</td>\n",
       "      <td>70</td>\n",
       "    </tr>\n",
       "    <tr>\n",
       "      <th>1</th>\n",
       "      <td>20</td>\n",
       "      <td>10</td>\n",
       "      <td>60</td>\n",
       "      <td>70</td>\n",
       "      <td>30</td>\n",
       "    </tr>\n",
       "    <tr>\n",
       "      <th>2</th>\n",
       "      <td>30</td>\n",
       "      <td>70</td>\n",
       "      <td>80</td>\n",
       "      <td>90</td>\n",
       "      <td>40</td>\n",
       "    </tr>\n",
       "  </tbody>\n",
       "</table>\n",
       "</div>"
      ],
      "text/plain": [
       "   CD  DBMS  DSS  CAO  DM\n",
       "0  10    20   12   40  70\n",
       "1  20    10   60   70  30\n",
       "2  30    70   80   90  40"
      ]
     },
     "execution_count": 5,
     "metadata": {},
     "output_type": "execute_result"
    }
   ],
   "source": [
    "df"
   ]
  },
  {
   "cell_type": "code",
   "execution_count": 6,
   "id": "01a69f99",
   "metadata": {},
   "outputs": [
    {
     "data": {
      "text/plain": [
       "(3, 5)"
      ]
     },
     "execution_count": 6,
     "metadata": {},
     "output_type": "execute_result"
    }
   ],
   "source": [
    "df.shape"
   ]
  },
  {
   "cell_type": "code",
   "execution_count": 7,
   "id": "0f0b3906",
   "metadata": {},
   "outputs": [
    {
     "data": {
      "text/plain": [
       "15"
      ]
     },
     "execution_count": 7,
     "metadata": {},
     "output_type": "execute_result"
    }
   ],
   "source": [
    "df.size"
   ]
  },
  {
   "cell_type": "code",
   "execution_count": 8,
   "id": "02cc87a0",
   "metadata": {},
   "outputs": [
    {
     "data": {
      "text/plain": [
       "2"
      ]
     },
     "execution_count": 8,
     "metadata": {},
     "output_type": "execute_result"
    }
   ],
   "source": [
    "df.ndim"
   ]
  },
  {
   "cell_type": "code",
   "execution_count": 15,
   "id": "1d07fe6f",
   "metadata": {},
   "outputs": [],
   "source": [
    "#Adding row in the dataframe\n",
    "df2 =pd.DataFrame([[5,6,7,8,9]],columns=[\"CD\",\"DBMS\",\"DSS\",\"CAO\",\"DM\"])"
   ]
  },
  {
   "cell_type": "code",
   "execution_count": 16,
   "id": "c6904a9a",
   "metadata": {},
   "outputs": [],
   "source": [
    "df3= df.append(df2)"
   ]
  },
  {
   "cell_type": "code",
   "execution_count": 17,
   "id": "677fec7f",
   "metadata": {},
   "outputs": [
    {
     "data": {
      "text/html": [
       "<div>\n",
       "<style scoped>\n",
       "    .dataframe tbody tr th:only-of-type {\n",
       "        vertical-align: middle;\n",
       "    }\n",
       "\n",
       "    .dataframe tbody tr th {\n",
       "        vertical-align: top;\n",
       "    }\n",
       "\n",
       "    .dataframe thead th {\n",
       "        text-align: right;\n",
       "    }\n",
       "</style>\n",
       "<table border=\"1\" class=\"dataframe\">\n",
       "  <thead>\n",
       "    <tr style=\"text-align: right;\">\n",
       "      <th></th>\n",
       "      <th>CD</th>\n",
       "      <th>DBMS</th>\n",
       "      <th>DSS</th>\n",
       "      <th>CAO</th>\n",
       "      <th>DM</th>\n",
       "    </tr>\n",
       "  </thead>\n",
       "  <tbody>\n",
       "    <tr>\n",
       "      <th>0</th>\n",
       "      <td>10</td>\n",
       "      <td>20</td>\n",
       "      <td>12</td>\n",
       "      <td>40</td>\n",
       "      <td>70</td>\n",
       "    </tr>\n",
       "    <tr>\n",
       "      <th>1</th>\n",
       "      <td>20</td>\n",
       "      <td>10</td>\n",
       "      <td>60</td>\n",
       "      <td>70</td>\n",
       "      <td>30</td>\n",
       "    </tr>\n",
       "    <tr>\n",
       "      <th>2</th>\n",
       "      <td>30</td>\n",
       "      <td>70</td>\n",
       "      <td>80</td>\n",
       "      <td>90</td>\n",
       "      <td>40</td>\n",
       "    </tr>\n",
       "    <tr>\n",
       "      <th>0</th>\n",
       "      <td>5</td>\n",
       "      <td>6</td>\n",
       "      <td>7</td>\n",
       "      <td>8</td>\n",
       "      <td>9</td>\n",
       "    </tr>\n",
       "  </tbody>\n",
       "</table>\n",
       "</div>"
      ],
      "text/plain": [
       "   CD  DBMS  DSS  CAO  DM\n",
       "0  10    20   12   40  70\n",
       "1  20    10   60   70  30\n",
       "2  30    70   80   90  40\n",
       "0   5     6    7    8   9"
      ]
     },
     "execution_count": 17,
     "metadata": {},
     "output_type": "execute_result"
    }
   ],
   "source": [
    "df3"
   ]
  },
  {
   "cell_type": "code",
   "execution_count": 18,
   "id": "53416c54",
   "metadata": {},
   "outputs": [],
   "source": [
    "#adding columns in the dataframe"
   ]
  },
  {
   "cell_type": "code",
   "execution_count": 19,
   "id": "e035e080",
   "metadata": {},
   "outputs": [],
   "source": [
    "#Deleting record from the dataframe\n",
    "df4=df3.drop(index=[1])"
   ]
  },
  {
   "cell_type": "code",
   "execution_count": 20,
   "id": "5656f57b",
   "metadata": {},
   "outputs": [
    {
     "data": {
      "text/html": [
       "<div>\n",
       "<style scoped>\n",
       "    .dataframe tbody tr th:only-of-type {\n",
       "        vertical-align: middle;\n",
       "    }\n",
       "\n",
       "    .dataframe tbody tr th {\n",
       "        vertical-align: top;\n",
       "    }\n",
       "\n",
       "    .dataframe thead th {\n",
       "        text-align: right;\n",
       "    }\n",
       "</style>\n",
       "<table border=\"1\" class=\"dataframe\">\n",
       "  <thead>\n",
       "    <tr style=\"text-align: right;\">\n",
       "      <th></th>\n",
       "      <th>CD</th>\n",
       "      <th>DBMS</th>\n",
       "      <th>DSS</th>\n",
       "      <th>CAO</th>\n",
       "      <th>DM</th>\n",
       "    </tr>\n",
       "  </thead>\n",
       "  <tbody>\n",
       "    <tr>\n",
       "      <th>0</th>\n",
       "      <td>10</td>\n",
       "      <td>20</td>\n",
       "      <td>12</td>\n",
       "      <td>40</td>\n",
       "      <td>70</td>\n",
       "    </tr>\n",
       "    <tr>\n",
       "      <th>2</th>\n",
       "      <td>30</td>\n",
       "      <td>70</td>\n",
       "      <td>80</td>\n",
       "      <td>90</td>\n",
       "      <td>40</td>\n",
       "    </tr>\n",
       "    <tr>\n",
       "      <th>0</th>\n",
       "      <td>5</td>\n",
       "      <td>6</td>\n",
       "      <td>7</td>\n",
       "      <td>8</td>\n",
       "      <td>9</td>\n",
       "    </tr>\n",
       "  </tbody>\n",
       "</table>\n",
       "</div>"
      ],
      "text/plain": [
       "   CD  DBMS  DSS  CAO  DM\n",
       "0  10    20   12   40  70\n",
       "2  30    70   80   90  40\n",
       "0   5     6    7    8   9"
      ]
     },
     "execution_count": 20,
     "metadata": {},
     "output_type": "execute_result"
    }
   ],
   "source": [
    "df4"
   ]
  },
  {
   "cell_type": "code",
   "execution_count": 21,
   "id": "26be6dab",
   "metadata": {},
   "outputs": [],
   "source": [
    "#Deleting record from the dataframe in columns\n",
    "df5=df3.drop(columns=[\"DM\"])"
   ]
  },
  {
   "cell_type": "code",
   "execution_count": 22,
   "id": "58c0b659",
   "metadata": {},
   "outputs": [
    {
     "data": {
      "text/html": [
       "<div>\n",
       "<style scoped>\n",
       "    .dataframe tbody tr th:only-of-type {\n",
       "        vertical-align: middle;\n",
       "    }\n",
       "\n",
       "    .dataframe tbody tr th {\n",
       "        vertical-align: top;\n",
       "    }\n",
       "\n",
       "    .dataframe thead th {\n",
       "        text-align: right;\n",
       "    }\n",
       "</style>\n",
       "<table border=\"1\" class=\"dataframe\">\n",
       "  <thead>\n",
       "    <tr style=\"text-align: right;\">\n",
       "      <th></th>\n",
       "      <th>CD</th>\n",
       "      <th>DBMS</th>\n",
       "      <th>DSS</th>\n",
       "      <th>CAO</th>\n",
       "    </tr>\n",
       "  </thead>\n",
       "  <tbody>\n",
       "    <tr>\n",
       "      <th>0</th>\n",
       "      <td>10</td>\n",
       "      <td>20</td>\n",
       "      <td>12</td>\n",
       "      <td>40</td>\n",
       "    </tr>\n",
       "    <tr>\n",
       "      <th>1</th>\n",
       "      <td>20</td>\n",
       "      <td>10</td>\n",
       "      <td>60</td>\n",
       "      <td>70</td>\n",
       "    </tr>\n",
       "    <tr>\n",
       "      <th>2</th>\n",
       "      <td>30</td>\n",
       "      <td>70</td>\n",
       "      <td>80</td>\n",
       "      <td>90</td>\n",
       "    </tr>\n",
       "    <tr>\n",
       "      <th>0</th>\n",
       "      <td>5</td>\n",
       "      <td>6</td>\n",
       "      <td>7</td>\n",
       "      <td>8</td>\n",
       "    </tr>\n",
       "  </tbody>\n",
       "</table>\n",
       "</div>"
      ],
      "text/plain": [
       "   CD  DBMS  DSS  CAO\n",
       "0  10    20   12   40\n",
       "1  20    10   60   70\n",
       "2  30    70   80   90\n",
       "0   5     6    7    8"
      ]
     },
     "execution_count": 22,
     "metadata": {},
     "output_type": "execute_result"
    }
   ],
   "source": [
    "df5"
   ]
  },
  {
   "cell_type": "code",
   "execution_count": 24,
   "id": "c41a99d2",
   "metadata": {},
   "outputs": [
    {
     "name": "stdout",
     "output_type": "stream",
     "text": [
      "Means of DSS: 39.75\n"
     ]
    }
   ],
   "source": [
    "#Finding means of DSS\n",
    "print(\"Means of DSS:\",df5[\"DSS\"].mean())"
   ]
  },
  {
   "cell_type": "code",
   "execution_count": 26,
   "id": "1a21d803",
   "metadata": {},
   "outputs": [
    {
     "name": "stdout",
     "output_type": "stream",
     "text": [
      "Median of DSS: 36.0\n"
     ]
    }
   ],
   "source": [
    "print(\"Median of DSS:\",df5[\"DSS\"].median())"
   ]
  },
  {
   "cell_type": "code",
   "execution_count": 27,
   "id": "54209658",
   "metadata": {},
   "outputs": [
    {
     "name": "stdout",
     "output_type": "stream",
     "text": [
      "Mode of DSS: 0     7\n",
      "1    12\n",
      "2    60\n",
      "3    80\n",
      "dtype: int64\n"
     ]
    }
   ],
   "source": [
    "print(\"Mode of DSS:\",df5[\"DSS\"].mode())"
   ]
  },
  {
   "cell_type": "code",
   "execution_count": 28,
   "id": "29e19141",
   "metadata": {},
   "outputs": [
    {
     "name": "stdout",
     "output_type": "stream",
     "text": [
      "Min of DSS: 7\n"
     ]
    }
   ],
   "source": [
    "print(\"Min of DSS:\",df5[\"DSS\"].min())"
   ]
  },
  {
   "cell_type": "code",
   "execution_count": 29,
   "id": "75af4a67",
   "metadata": {},
   "outputs": [
    {
     "name": "stdout",
     "output_type": "stream",
     "text": [
      "Max of DSS: 80\n"
     ]
    }
   ],
   "source": [
    "print(\"Max of DSS:\",df5[\"DSS\"].max())"
   ]
  },
  {
   "cell_type": "code",
   "execution_count": 33,
   "id": "8f5b59b9",
   "metadata": {},
   "outputs": [
    {
     "data": {
      "text/plain": [
       "['Gauri', 'Prashansha', 'Prerna', 'Sawali', 'Minakshi']"
      ]
     },
     "execution_count": 33,
     "metadata": {},
     "output_type": "execute_result"
    }
   ],
   "source": [
    "#Creating student name list\n",
    "Name=[\"Gauri\",\"Prashansha\",\"Prerna\",\"Sawali\",\"Minakshi\"]\n",
    "Name"
   ]
  },
  {
   "cell_type": "code",
   "execution_count": 35,
   "id": "0502f852",
   "metadata": {},
   "outputs": [
    {
     "name": "stdout",
     "output_type": "stream",
     "text": [
      "1         Gauri\n",
      "2    Prashansha\n",
      "3        Prerna\n",
      "4        Sawali\n",
      "5      Minakshi\n",
      "dtype: object\n"
     ]
    }
   ],
   "source": [
    "#Creating a Series\n",
    "Roll_list=pd.Series(Name,index=[1,2,3,4,5])\n",
    "print(Roll_list)"
   ]
  },
  {
   "cell_type": "code",
   "execution_count": null,
   "id": "9a5eeb15",
   "metadata": {},
   "outputs": [],
   "source": []
  }
 ],
 "metadata": {
  "kernelspec": {
   "display_name": "Python 3 (ipykernel)",
   "language": "python",
   "name": "python3"
  },
  "language_info": {
   "codemirror_mode": {
    "name": "ipython",
    "version": 3
   },
   "file_extension": ".py",
   "mimetype": "text/x-python",
   "name": "python",
   "nbconvert_exporter": "python",
   "pygments_lexer": "ipython3",
   "version": "3.13.5"
  }
 },
 "nbformat": 4,
 "nbformat_minor": 5
}
